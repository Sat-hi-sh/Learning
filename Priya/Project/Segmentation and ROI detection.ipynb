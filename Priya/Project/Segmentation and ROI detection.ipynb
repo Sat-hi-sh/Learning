{
 "cells": [
  {
   "attachments": {},
   "cell_type": "markdown",
   "metadata": {},
   "source": [
    "segmentation\n",
    "\n"
   ]
  },
  {
   "cell_type": "code",
   "execution_count": 1,
   "metadata": {},
   "outputs": [],
   "source": [
    "import cv2\n",
    "\n",
    "# Load grayscale image\n",
    "img = cv2.imread(r\"D:\\Priya\\DDSM Dataset\\Benign Masses\\D1_A_1372_1.RIGHT_MLO.png\", 0)\n",
    "\n",
    "# Apply Otsu's thresholding\n",
    "ret, thresh = cv2.threshold(img, 0, 255, cv2.THRESH_BINARY_INV + cv2.THRESH_OTSU)\n",
    "\n",
    "# Save thresholded image as PNG\n",
    "cv2.imwrite(r'D:\\result\\image.png', thresh)\n",
    "\n",
    "# Display original image and thresholded image\n",
    "cv2.imshow('Original Image', img)\n",
    "cv2.imshow('Thresholded Image', thresh)\n",
    "\n",
    "cv2.waitKey(0)\n",
    "cv2.destroyAllWindows()\n"
   ]
  },
  {
   "cell_type": "code",
   "execution_count": 30,
   "metadata": {},
   "outputs": [
    {
     "data": {
      "text/plain": [
       "True"
      ]
     },
     "execution_count": 30,
     "metadata": {},
     "output_type": "execute_result"
    }
   ],
   "source": [
    "#ROI detection\n",
    "import cv2\n",
    "import numpy as np\n",
    "\n",
    "# Load the grayscale image\n",
    "img_gray = cv2.imread(r\"F:\\Projetcs\\DDSM Dataset\\Benign Masses\\D1_A_1372_1.RIGHT_CC (2).png\", cv2.IMREAD_GRAYSCALE)\n",
    "\n",
    "# Apply the blue-red colormap\n",
    "cmap = cv2.COLORMAP_JET\n",
    "img_color = cv2.applyColorMap(img_gray, cmap)\n",
    "\n",
    "# Convert the color image to HSV\n",
    "img_hsv = cv2.cvtColor(img_color, cv2.COLOR_BGR2HSV)\n",
    "\n",
    "# Threshold the image based on the hue value (red color)\n",
    "lower_red = np.array([0, 100, 100])\n",
    "upper_red = np.array([10, 255, 255])\n",
    "mask1 = cv2.inRange(img_hsv, lower_red, upper_red)\n",
    "\n",
    "lower_red = np.array([170, 100, 100])\n",
    "upper_red = np.array([180, 255, 255])\n",
    "mask2 = cv2.inRange(img_hsv, lower_red, upper_red)\n",
    "\n",
    "mask = cv2.bitwise_or(mask1, mask2)\n",
    "\n",
    "# Apply a Gaussian blur to the thresholded image\n",
    "mask_blur = cv2.GaussianBlur(mask, (5, 5), 0)\n",
    "\n",
    "# Find contours in the blurred image\n",
    "\n",
    "contours, hierarchy = cv2.findContours(mask_blur, cv2.RETR_EXTERNAL, cv2.CHAIN_APPROX_SIMPLE)\n",
    "\n",
    "# Draw a black circle around each contour\n",
    "for cnt in contours:\n",
    "    (x, y), radius = cv2.minEnclosingCircle(cnt)\n",
    "    center = (int(x), int(y))\n",
    "    radius = int(radius)\n",
    "    cv2.circle(img_color, center, radius, (0, 0, 0), 2)\n",
    "\n",
    "# Display the result\n",
    "cv2.imshow('Result', img_color)\n",
    "cv2.waitKey(0)\n",
    "cv2.destroyAllWindows()\n",
    "cv2.imwrite(r'F:\\Projetcs\\DDSM Dataset\\Result\\otsu.png', img_color)\n",
    "\n"
   ]
  },
  {
   "cell_type": "code",
   "execution_count": 31,
   "metadata": {},
   "outputs": [
    {
     "data": {
      "text/plain": [
       "True"
      ]
     },
     "execution_count": 31,
     "metadata": {},
     "output_type": "execute_result"
    }
   ],
   "source": [
    "#######################################Binarized image#######################################\n",
    "import cv2\n",
    "\n",
    "# Load the PNG image\n",
    "img = cv2.imread(r\"F:\\Projetcs\\DDSM Dataset\\Benign Masses\\D1_A_1372_1.RIGHT_CC (2).png\", cv2.IMREAD_GRAYSCALE)\n",
    "\n",
    "# Apply thresholding to binarize the image\n",
    "threshold_value = 150\n",
    "max_value = 255\n",
    "threshold_type = cv2.THRESH_BINARY\n",
    "_, binary_img = cv2.threshold(img, threshold_value, max_value, threshold_type)\n",
    "\n",
    "# Display the binarized image\n",
    "cv2.imshow('Binarized mammogram', binary_img)\n",
    "cv2.waitKey(0)\n",
    "cv2.destroyAllWindows()\n",
    "\n",
    "\n",
    "\n",
    "\n",
    "# Save the binarized image as a PNG file\n",
    "cv2.imwrite(r'F:\\Projetcs\\DDSM Dataset\\Result\\binary_mammogram.png', binary_img)\n",
    "\n"
   ]
  },
  {
   "cell_type": "code",
   "execution_count": 32,
   "metadata": {},
   "outputs": [
    {
     "data": {
      "text/plain": [
       "True"
      ]
     },
     "execution_count": 32,
     "metadata": {},
     "output_type": "execute_result"
    }
   ],
   "source": [
    "#######################################Guassianblur#######################################\n",
    "import cv2\n",
    "import numpy as np\n",
    "\n",
    "# Load the mammogram image\n",
    "img = cv2.imread(r'F:\\Projetcs\\DDSM Dataset\\Result\\binary_mammogram.png', cv2.IMREAD_GRAYSCALE)\n",
    "\n",
    "# Apply Gaussian blur\n",
    "blur_img = cv2.GaussianBlur(img, (5, 5), 0)\n",
    "\n",
    "# Display the result\n",
    "cv2.imshow('Blurred Image', blur_img)\n",
    "cv2.waitKey(0)\n",
    "cv2.destroyAllWindows()\n",
    "\n",
    "# Save the binarized image as a PNG file\n",
    "cv2.imwrite(r'F:\\Projetcs\\DDSM Dataset\\Result\\blured_mammogram.png', binary_img)\n"
   ]
  },
  {
   "cell_type": "code",
   "execution_count": 33,
   "metadata": {},
   "outputs": [
    {
     "data": {
      "text/plain": [
       "True"
      ]
     },
     "execution_count": 33,
     "metadata": {},
     "output_type": "execute_result"
    }
   ],
   "source": [
    "#######################################masked blur#######################################\n",
    "import cv2\n",
    "import numpy as np\n",
    "\n",
    "# Load the mammogram image\n",
    "img = cv2.imread(r'F:\\Projetcs\\DDSM Dataset\\Result\\blured_mammogram.png', cv2.IMREAD_GRAYSCALE)\n",
    "\n",
    "# Define the binary mask\n",
    "mask = np.zeros_like(img)\n",
    "rows, cols = img.shape\n",
    "center = (cols // 2, rows // 2)\n",
    "radius = min(center) - 50\n",
    "cv2.circle(mask, center, radius, 255, -1)\n",
    "\n",
    "# Apply the mask to the image\n",
    "masked_img = cv2.bitwise_and(img, mask)\n",
    "\n",
    "# Display the result\n",
    "cv2.imshow('Masked Image', masked_img)\n",
    "cv2.waitKey(0)\n",
    "cv2.destroyAllWindows()\n",
    "\n",
    "cv2.imwrite(r'F:\\Projetcs\\DDSM Dataset\\Result\\blured_mammogram.png', binary_img)\n"
   ]
  },
  {
   "cell_type": "code",
   "execution_count": 34,
   "metadata": {},
   "outputs": [
    {
     "data": {
      "text/plain": [
       "True"
      ]
     },
     "execution_count": 34,
     "metadata": {},
     "output_type": "execute_result"
    }
   ],
   "source": [
    "#######################################masked blur#######################################import cv2\n",
    "import numpy as np\n",
    "\n",
    "# Load the mammogram image\n",
    "img = cv2.imread(r'F:\\Projetcs\\DDSM Dataset\\Result\\binary_mammogram.png', cv2.IMREAD_GRAYSCALE)\n",
    "\n",
    "# Apply median blur\n",
    "blur_img = cv2.medianBlur(img, 5)\n",
    "\n",
    "# Display the result\n",
    "cv2.imshow('Blurred Image', blur_img)\n",
    "cv2.waitKey(0)\n",
    "cv2.destroyAllWindows()\n",
    "cv2.imwrite(r'F:\\Projetcs\\DDSM Dataset\\Result\\final_blured_mammogram.png', blur_img)\n"
   ]
  },
  {
   "cell_type": "code",
   "execution_count": 35,
   "metadata": {},
   "outputs": [],
   "source": [
    "import cv2\n",
    "\n",
    "# Load the grayscale image\n",
    "img_gray = cv2.imread(r'F:\\Projetcs\\DDSM Dataset\\Result\\final_blured_mammogram.png', cv2.IMREAD_GRAYSCALE)\n",
    "\n",
    "# Normalize the grayscale image\n",
    "img_norm = cv2.normalize(img_gray, None, alpha=0, beta=255, norm_type=cv2.NORM_MINMAX)\n",
    "\n",
    "# Apply the blue-red colormap\n",
    "cmap = cv2.COLORMAP_JET\n",
    "img_color = cv2.applyColorMap(img_norm, cmap)\n",
    "\n",
    "# Display the result\n",
    "cv2.imshow('Result', img_color)\n",
    "cv2.waitKey(0)\n",
    "cv2.destroyAllWindows()\n"
   ]
  },
  {
   "cell_type": "code",
   "execution_count": 39,
   "metadata": {},
   "outputs": [
    {
     "name": "stdout",
     "output_type": "stream",
     "text": [
      "Regular\n",
      "Round\n",
      "Round\n",
      "Regular\n",
      "Regular\n",
      "Round\n",
      "Round\n",
      "Regular\n",
      "Regular\n",
      "Regular\n",
      "Round\n",
      "Regular\n",
      "Regular\n",
      "Regular\n"
     ]
    },
    {
     "data": {
      "text/plain": [
       "True"
      ]
     },
     "execution_count": 39,
     "metadata": {},
     "output_type": "execute_result"
    }
   ],
   "source": [
    "import cv2\n",
    "\n",
    "# Load the grayscale image\n",
    "img_gray = cv2.imread(r'F:\\Projetcs\\DDSM Dataset\\Result\\final_blured_mammogram.png', cv2.IMREAD_GRAYSCALE)\n",
    "\n",
    "# Threshold the image to get a binary image\n",
    "ret, thresh = cv2.threshold(img_gray, 127, 255, cv2.THRESH_BINARY)\n",
    "\n",
    "# Find contours in the binary image\n",
    "contours, hierarchy = cv2.findContours(thresh, cv2.RETR_EXTERNAL, cv2.CHAIN_APPROX_SIMPLE)\n",
    "\n",
    "# Classify the yellow regions based on their area\n",
    "for contour in contours:\n",
    "    # Calculate the area of the contour\n",
    "    area = cv2.contourArea(contour)\n",
    "    if area < 100:\n",
    "        print(\"Regular\")\n",
    "    elif 100 <= area <= 1000:\n",
    "        print(\"Round\")\n",
    "    else:\n",
    "        print(\"Lobular\")\n",
    "\n",
    "# Draw yellow contours on the original image\n",
    "img_contours = cv2.cvtColor(img_gray, cv2.COLOR_GRAY2BGR)\n",
    "cv2.drawContours(img_contours, contours, -1, (0, 255, 255), 2)\n",
    "\n",
    "# Display the result\n",
    "cv2.imshow('Contours', img_contours)\n",
    "cv2.waitKey(0)\n",
    "cv2.destroyAllWindows()\n",
    "cv2.imwrite(r'F:\\Projetcs\\DDSM Dataset\\Result\\yellow_markedregion.png', img_contours)\n"
   ]
  },
  {
   "cell_type": "code",
   "execution_count": 37,
   "metadata": {},
   "outputs": [
    {
     "name": "stdout",
     "output_type": "stream",
     "text": [
      "Regular\n",
      "Round\n",
      "Round\n",
      "Regular\n",
      "Regular\n",
      "Round\n",
      "Round\n",
      "Regular\n",
      "Regular\n",
      "Regular\n",
      "Round\n",
      "Regular\n",
      "Regular\n",
      "Regular\n"
     ]
    },
    {
     "data": {
      "text/plain": [
       "True"
      ]
     },
     "execution_count": 37,
     "metadata": {},
     "output_type": "execute_result"
    }
   ],
   "source": [
    "import cv2\n",
    "\n",
    "# Load the grayscale image\n",
    "img_gray = cv2.imread(r'F:\\Projetcs\\DDSM Dataset\\Result\\final_blured_mammogram.png', cv2.IMREAD_GRAYSCALE)\n",
    "\n",
    "# Threshold the image to get a binary image\n",
    "ret, thresh = cv2.threshold(img_gray, 127, 255, cv2.THRESH_BINARY)\n",
    "\n",
    "# Find contours in the binary image\n",
    "contours, hierarchy = cv2.findContours(thresh, cv2.RETR_EXTERNAL, cv2.CHAIN_APPROX_SIMPLE)\n",
    "\n",
    "# Classify the yellow regions based on their area\n",
    "for contour in contours:\n",
    "    # Calculate the area of the contour\n",
    "    area = cv2.contourArea(contour)\n",
    "    if area < 100:\n",
    "        print(\"Regular\")\n",
    "    elif 100 <= area <= 1000:\n",
    "        print(\"Round\")\n",
    "    else:\n",
    "        print(\"Lobular\")\n",
    "\n",
    "# Draw yellow contours on the original image\n",
    "img_contours = cv2.cvtColor(img_gray, cv2.COLOR_GRAY2BGR)\n",
    "cv2.drawContours(img_contours, contours, -1, (0, 255, 255), 2)\n",
    "\n",
    "# Display the result\n",
    "cv2.imshow('Contours', img_contours)\n",
    "cv2.waitKey(0)\n",
    "cv2.destroyAllWindows()\n",
    "cv2.imwrite(r'F:\\Projetcs\\DDSM Dataset\\Result\\yellow_markedregion.png', img_contours)\n"
   ]
  },
  {
   "cell_type": "code",
   "execution_count": 38,
   "metadata": {},
   "outputs": [
    {
     "name": "stdout",
     "output_type": "stream",
     "text": [
      "Contrast: 818.8014112510233\n",
      "Dissimilarity: 3.2109859264746015\n",
      "Homogeneity: 0.9874080919747329\n",
      "Energy: 0.9436087779760881\n",
      "Correlation: 0.8704102101189711\n",
      "Perimeter: 23.899494767189026\n",
      "Area: 19.5\n",
      "Circularity: 0.42900962432028805\n",
      "Mean Intensity: 13.000155252382154\n",
      "Std Intensity: 56.08953157917625\n",
      "Entropy: 0.2905496531827988\n"
     ]
    },
    {
     "name": "stderr",
     "output_type": "stream",
     "text": [
      "c:\\Users\\Brins\\anaconda3\\lib\\site-packages\\skimage\\feature\\__init__.py:35: skimage_deprecation: Function ``greycomatrix`` is deprecated and will be removed in version 1.0. Use ``skimage.feature.graycomatrix`` instead.\n",
      "  removed_version='1.0')\n",
      "c:\\Users\\Brins\\anaconda3\\lib\\site-packages\\skimage\\feature\\__init__.py:42: skimage_deprecation: Function ``greycoprops`` is deprecated and will be removed in version 1.0. Use ``skimage.feature.graycoprops`` instead.\n",
      "  removed_version='1.0')\n",
      "c:\\Users\\Brins\\anaconda3\\lib\\site-packages\\skimage\\feature\\__init__.py:42: skimage_deprecation: Function ``greycoprops`` is deprecated and will be removed in version 1.0. Use ``skimage.feature.graycoprops`` instead.\n",
      "  removed_version='1.0')\n",
      "c:\\Users\\Brins\\anaconda3\\lib\\site-packages\\skimage\\feature\\__init__.py:42: skimage_deprecation: Function ``greycoprops`` is deprecated and will be removed in version 1.0. Use ``skimage.feature.graycoprops`` instead.\n",
      "  removed_version='1.0')\n",
      "c:\\Users\\Brins\\anaconda3\\lib\\site-packages\\skimage\\feature\\__init__.py:42: skimage_deprecation: Function ``greycoprops`` is deprecated and will be removed in version 1.0. Use ``skimage.feature.graycoprops`` instead.\n",
      "  removed_version='1.0')\n",
      "c:\\Users\\Brins\\anaconda3\\lib\\site-packages\\skimage\\feature\\__init__.py:42: skimage_deprecation: Function ``greycoprops`` is deprecated and will be removed in version 1.0. Use ``skimage.feature.graycoprops`` instead.\n",
      "  removed_version='1.0')\n"
     ]
    }
   ],
   "source": [
    "import numpy as np\n",
    "from skimage.feature import greycomatrix, greycoprops\n",
    "from skimage.measure import shannon_entropy\n",
    "\n",
    "# Load the segmented region of interest (ROI) image\n",
    "roi = cv2.imread(r'F:\\Projetcs\\DDSM Dataset\\Result\\final_blured_mammogram.png', cv2.IMREAD_GRAYSCALE)\n",
    "\n",
    "# Extract texture features using Grey-Level Co-occurrence Matrix (GLCM)\n",
    "glcm = greycomatrix(roi, [1], [0], symmetric=True, normed=True)\n",
    "contrast = greycoprops(glcm, 'contrast')[0, 0]\n",
    "dissimilarity = greycoprops(glcm, 'dissimilarity')[0, 0]\n",
    "homogeneity = greycoprops(glcm, 'homogeneity')[0, 0]\n",
    "energy = greycoprops(glcm, 'energy')[0, 0]\n",
    "correlation = greycoprops(glcm, 'correlation')[0, 0]\n",
    "\n",
    "# Extract shape features\n",
    "contours, _ = cv2.findContours(roi, cv2.RETR_EXTERNAL, cv2.CHAIN_APPROX_SIMPLE)\n",
    "contour = contours[0]  # Assuming only one contour in the ROI\n",
    "perimeter = cv2.arcLength(contour, True)\n",
    "area = cv2.contourArea(contour)\n",
    "circularity = (4 * np.pi * area) / (perimeter ** 2)\n",
    "\n",
    "# Extract intensity features\n",
    "mean_intensity = np.mean(roi)\n",
    "std_intensity = np.std(roi)\n",
    "entropy = shannon_entropy(roi)\n",
    "\n",
    "# Print the extracted features\n",
    "print('Contrast:', contrast)\n",
    "print('Dissimilarity:', dissimilarity)\n",
    "print('Homogeneity:', homogeneity)\n",
    "print('Energy:', energy)\n",
    "print('Correlation:', correlation)\n",
    "print('Perimeter:', perimeter)\n",
    "print('Area:', area)\n",
    "print('Circularity:', circularity)\n",
    "print('Mean Intensity:', mean_intensity)\n",
    "print('Std Intensity:', std_intensity)\n",
    "print('Entropy:', entropy)\n"
   ]
  },
  {
   "cell_type": "code",
   "execution_count": null,
   "metadata": {},
   "outputs": [],
   "source": []
  }
 ],
 "metadata": {
  "kernelspec": {
   "display_name": "base",
   "language": "python",
   "name": "python3"
  },
  "language_info": {
   "codemirror_mode": {
    "name": "ipython",
    "version": 3
   },
   "file_extension": ".py",
   "mimetype": "text/x-python",
   "name": "python",
   "nbconvert_exporter": "python",
   "pygments_lexer": "ipython3",
   "version": "3.9.13"
  },
  "orig_nbformat": 4
 },
 "nbformat": 4,
 "nbformat_minor": 2
}
